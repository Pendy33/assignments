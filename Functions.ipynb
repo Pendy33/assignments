{
  "nbformat": 4,
  "nbformat_minor": 0,
  "metadata": {
    "colab": {
      "provenance": [],
      "include_colab_link": true
    },
    "kernelspec": {
      "name": "python3",
      "display_name": "Python 3"
    },
    "language_info": {
      "name": "python"
    }
  },
  "cells": [
    {
      "cell_type": "markdown",
      "metadata": {
        "id": "view-in-github",
        "colab_type": "text"
      },
      "source": [
        "<a href=\"https://colab.research.google.com/github/Pendy33/assignments/blob/main/Functions.ipynb\" target=\"_parent\"><img src=\"https://colab.research.google.com/assets/colab-badge.svg\" alt=\"Open In Colab\"/></a>"
      ]
    },
    {
      "cell_type": "markdown",
      "source": [
        "# Functions in Python\n",
        "Functions are designed to perform the same task repeatedly. For the user, they operate like a black box, with no visibility into how the function is implemented. Users provide compatible arguments to the function, or in some cases, no arguments at all, and the function executes according to the programmer's implementation.\n",
        "\n",
        "## Objective\n",
        "- Understand how arguments are used in functions\n",
        "- Function variables visibility and global variables\n",
        "- Troubleshoot functions\n",
        "\n",
        "## Prerequisite\n",
        "\n",
        "- Lists & tuples\n",
        "- Decision and loops\n",
        "\n",
        "\n",
        "## What do you need to complete this exercise?\n",
        "\n",
        "You can perform this exercise in any Python IDE, including JupyterLab or Google Colab.\n"
      ],
      "metadata": {
        "id": "2ITy4ycVFXBq"
      }
    },
    {
      "cell_type": "markdown",
      "source": [
        "# Create a unit conversion program using functions\n",
        "1a. The user selects kilometers per liter (kpl), and the response will be provided in miles per gallon (mpg). The units must be interchangeable, so the program will ask the user whether to convert from kpl to mpg or vice versa.\n",
        "\n",
        "The program will prompt the user for input and deliver output with the appropriate units.\n",
        "\n",
        "Additionally, the program will include input validation. For example, it will not accept letter inputs and will provide an error message to the user when invalid input is detected.\n",
        "\n",
        "The function will also allow multiple arguments, enabling the user to convert multiple values at once.\n",
        "\n",
        "Research and find out the conversion factor between the units."
      ],
      "metadata": {
        "id": "uQxH0KO0tsDc"
      }
    },
    {
      "cell_type": "code",
      "source": [
        "# Write your code here.\n",
        "def kpl_to_mpg(MPG):\n",
        "    return (MPG * 2.3521458)\n",
        "def mpg_to_kpl(KPL):\n",
        "    return (KPL * 0.425143707)\n",
        "while True:\n",
        "    choice = input(\"Choose KPL to MPG ('MPG') or MPG to KPL ('KPL'): \").upper()\n",
        "    if choice == 'MPG':\n",
        "        break\n",
        "    if choice == 'KPL':\n",
        "        break\n",
        "    print(\"Invalid Choice -- Please enter MPG or KPL: \")\n",
        "while True:\n",
        "    values = input(\"Enter values (Multiple values should be separated by spaces): \")\n",
        "    try:\n",
        "        distances = [float(values) for values in values.split()]\n",
        "        break\n",
        "    except ValueError:\n",
        "        print(\"Invalid inputs. Only enter numeric values separated by spaces: \")\n",
        "if choice == 'MPG':\n",
        "    converted_values = [kpl_to_mpg(value) for value in distances]\n",
        "    print(\"Converted to MPG:\", converted_values)\n",
        "else:\n",
        "    converted_values = [mpg_to_kpl(value) for value in distances]\n",
        "    print(\"Converted to KPL:\", converted_values)"
      ],
      "metadata": {
        "id": "rRTflD1C9mjt",
        "outputId": "30950fda-36bd-496e-8b2b-0fa6dd0cd3fe",
        "colab": {
          "base_uri": "https://localhost:8080/"
        }
      },
      "execution_count": 1,
      "outputs": [
        {
          "output_type": "stream",
          "name": "stdout",
          "text": [
            "Choose KPL to MPG ('MPG') or MPG to KPL ('KPL'): MPG\n",
            "Enter values (Multiple values should be separated by spaces): 1 800 6500 2.45\n",
            "Converted to MPG: [2.3521458, 1881.71664, 15288.9477, 5.762757210000001]\n"
          ]
        }
      ]
    },
    {
      "cell_type": "markdown",
      "source": [
        "1b. How would you write a function that could take any number of unnamed arguments and print their values out in reverse order?\n",
        "\n",
        "You can use prefix the final parameter in a list with \"**\" to collect infiinte arguments. From there, you can use the reversed function to reverse the order.\n"
      ],
      "metadata": {
        "id": "0jkTuRdlA6sk"
      }
    },
    {
      "cell_type": "markdown",
      "source": [
        "1c. What would be the result of changing a list or dictionary that was passed into a function as a parameter value? Which operations would be likely to create changes that would be visible outside the function? What steps might you take to minimize that risk?\n",
        "\n",
        "Explain the above statements with the help of code."
      ],
      "metadata": {
        "id": "sL7k6J70zdzH"
      }
    },
    {
      "cell_type": "code",
      "source": [
        "def modify_list(list):\n",
        "    list.append(4)\n",
        "my_list = [1, 2, 3]\n",
        "modify_list(my_list)\n",
        "print(my_list) #using mutable variables will allow for changes visable outside the function\n",
        "\n",
        "def modify_tuple(tuple):\n",
        "  tuple = (1,2,3,4)\n",
        "  print(tuple)\n",
        "tuple = (1, 2, 3)\n",
        "modify_tuple(tuple)\n",
        "print(tuple) #using immutable variables will not allow for changes visable outside the function\n",
        "\n"
      ],
      "metadata": {
        "id": "8ZIVOfAMQt2Z",
        "outputId": "2c276077-9a60-4cfc-d59b-a99b9b8d00e8",
        "colab": {
          "base_uri": "https://localhost:8080/"
        }
      },
      "execution_count": 15,
      "outputs": [
        {
          "output_type": "stream",
          "name": "stdout",
          "text": [
            "[1, 2, 3, 4]\n",
            "(1, 2, 3, 4)\n",
            "(1, 2, 3)\n"
          ]
        }
      ]
    },
    {
      "cell_type": "markdown",
      "source": [
        "1d. Assuming that ```x = 5```, what will be the value of ```x``` after ```funct_1()``` below executes? After ```funct_2()``` executes?\n"
      ],
      "metadata": {
        "id": "1wWF-wZx2h9s"
      }
    },
    {
      "cell_type": "code",
      "source": [
        "x = 5\n",
        "def funct_1():\n",
        "  x=3\n",
        "\n",
        "def funct_2():\n",
        "  global x\n",
        "  x=2\n",
        "\n",
        "  #after execution, I get 3 and 2. See code below.\n",
        "\n",
        "x = 5\n",
        "def funct_1():\n",
        "  x=3\n",
        "  return x\n",
        "print(x)\n",
        "print(funct_1())\n",
        "\n",
        "def funct_2():\n",
        "  global x\n",
        "  x=2\n",
        "  return x\n",
        "print(funct_2())"
      ],
      "metadata": {
        "id": "nvd-xB2v3AYh",
        "outputId": "c352fa4e-8912-43ec-c118-5edc8618dea4",
        "colab": {
          "base_uri": "https://localhost:8080/"
        }
      },
      "execution_count": 3,
      "outputs": [
        {
          "output_type": "stream",
          "name": "stdout",
          "text": [
            "5\n",
            "3\n",
            "2\n"
          ]
        }
      ]
    },
    {
      "cell_type": "markdown",
      "source": [
        "2. Troubleshooting"
      ],
      "metadata": {
        "id": "tJlIQIYjBPLX"
      }
    },
    {
      "cell_type": "markdown",
      "source": [
        "Correct the following code. There might be more than one correct answers. Explain your reasoning."
      ],
      "metadata": {
        "id": "V8HkUVFy6DlD"
      }
    },
    {
      "cell_type": "code",
      "source": [
        "#def my_func(a,b,**c):\n",
        "  #print(c)\n",
        "\n",
        "#my_func(1,2,3,4,5,6)\n",
        "\n",
        "def my_func(a,b,*c): # '**' is for keywords. Removing one results in no errors\n",
        "  print(c)\n",
        "\n",
        "my_func(1,2,3,4,5,6)"
      ],
      "metadata": {
        "id": "bJzMzbxIsAU9",
        "outputId": "c3f407af-b176-4b64-b690-e1508d664731",
        "colab": {
          "base_uri": "https://localhost:8080/"
        }
      },
      "execution_count": 5,
      "outputs": [
        {
          "output_type": "stream",
          "name": "stdout",
          "text": [
            "(3, 4, 5, 6)\n"
          ]
        }
      ]
    },
    {
      "cell_type": "markdown",
      "source": [
        "Using the following code, x should print 100 but it prints 10, why?"
      ],
      "metadata": {
        "id": "sYDRYXa9vbX4"
      }
    },
    {
      "cell_type": "code",
      "source": [
        "def my_func_global():\n",
        "  x = 100\n",
        "\n",
        "global x #it is due to the positioning of the global x. It needs to be modified in the function\n",
        "x = 10\n",
        "my_func_global()\n",
        "print(\"Original code: \",x)\n",
        "\n",
        "def my_func_global():\n",
        "  global x\n",
        "  x = 100\n",
        "\n",
        "x = 10\n",
        "my_func_global()\n",
        "print(\"Updated: \",x)"
      ],
      "metadata": {
        "id": "w93b1OeVNYuf",
        "colab": {
          "base_uri": "https://localhost:8080/"
        },
        "outputId": "f2bdbbc3-c61f-4a62-eeb1-ebb992284a92"
      },
      "execution_count": 10,
      "outputs": [
        {
          "output_type": "stream",
          "name": "stdout",
          "text": [
            "Original code:  10\n",
            "Updated:  100\n"
          ]
        }
      ]
    },
    {
      "cell_type": "markdown",
      "source": [
        "## Challenges\n",
        "\n",
        "Please describe the challenges you faced during the exercise."
      ],
      "metadata": {
        "id": "xQzjxKdvvbyo"
      }
    },
    {
      "cell_type": "markdown",
      "source": [
        "Write your challenges here"
      ],
      "metadata": {
        "id": "qfJNpTB5EbY4"
      }
    }
  ]
}