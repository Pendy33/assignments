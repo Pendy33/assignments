{
  "nbformat": 4,
  "nbformat_minor": 0,
  "metadata": {
    "colab": {
      "provenance": [],
      "include_colab_link": true
    },
    "kernelspec": {
      "name": "python3",
      "display_name": "Python 3"
    },
    "language_info": {
      "name": "python"
    }
  },
  "cells": [
    {
      "cell_type": "markdown",
      "metadata": {
        "id": "view-in-github",
        "colab_type": "text"
      },
      "source": [
        "<a href=\"https://colab.research.google.com/github/Pendy33/assignments/blob/main/Loops.ipynb\" target=\"_parent\"><img src=\"https://colab.research.google.com/assets/colab-badge.svg\" alt=\"Open In Colab\"/></a>"
      ]
    },
    {
      "cell_type": "markdown",
      "source": [
        "# Loops in Python\n",
        "\n",
        "A sequence of instructions that repeats until a certain condition is met\n",
        "\n",
        "## Objective\n",
        "Understand how loops are applied\n",
        "\n",
        "## Prerequisite\n",
        "\n",
        "- Decision statements\n",
        "- Input functions\n",
        "- Python literals\n",
        "- Programming variables\n",
        "\n",
        "## What do you need to complete this exercise?\n",
        "\n",
        "You can perform this exercise in any Python IDE, including JupyterLab or Google Colab.\n"
      ],
      "metadata": {
        "id": "2ITy4ycVFXBq"
      }
    },
    {
      "cell_type": "markdown",
      "source": [
        "### While loop\n",
        "\n",
        "a. Please write Python code using a while loop to perform the following steps.\n",
        "\n",
        "1. Take any non-negative and non-zero integer number and name it ```n0```\n",
        "2. if the number is even, evaluate a new ```n0``` as ```n0 ÷ 2```;\n",
        "3. Otherwise, if the number is odd, evaluate a new ```n0``` as ```3 * n0 + 1```;\n",
        "4. if ```n0``` is not equal to 1, go to point 2.\n",
        "\n",
        "#### Sample input: ```16```\n",
        "\n",
        "#### Expected output: ###\n",
        "\n",
        "```\n",
        "8\n",
        "4\n",
        "2\n",
        "1\n",
        "steps = 4\n",
        "```"
      ],
      "metadata": {
        "id": "uQxH0KO0tsDc"
      }
    },
    {
      "cell_type": "code",
      "source": [
        "# Write your code here.\n",
        "n0 = int(input(\"Type any non-negative, non-zero integer:\"))\n",
        "if(n0 !=1):\n",
        "    while (n0 != 1):\n",
        "        if (n0 % 2 == 0):\n",
        "            n0 = n0 // 2\n",
        "        else:\n",
        "            n0 = 3 * n0 + 1\n",
        "        print(n0)"
      ],
      "metadata": {
        "id": "5M7ksW8xsC3k",
        "outputId": "80d12001-53d0-44be-b7aa-c704fe6f670c",
        "colab": {
          "base_uri": "https://localhost:8080/"
        }
      },
      "execution_count": 2,
      "outputs": [
        {
          "output_type": "stream",
          "name": "stdout",
          "text": [
            "Type any non-negative, non-zero integer:16\n",
            "8\n",
            "4\n",
            "2\n",
            "1\n"
          ]
        }
      ]
    },
    {
      "cell_type": "markdown",
      "source": [
        "b. Write code that uses a while loop and runs indefinitely. Modify the same code to resolve the infinite loop issue."
      ],
      "metadata": {
        "id": "S3X6hdy5sI-s"
      }
    },
    {
      "cell_type": "code",
      "source": [
        "# Write your code here.\n",
        "# original code:print(\"x = 1 while(x>=1):x=x+1 print(x)\")\n",
        "\n",
        "# New Code\n",
        "\n",
        "x=1\n",
        "while(x>=1 and x<10):\n",
        "  x=x+1\n",
        "  print(x)\n",
        "\n",
        "\n"
      ],
      "metadata": {
        "id": "cs0pk1_qsNY0",
        "outputId": "46736c96-339a-42d4-e653-bba7a5cf574e",
        "colab": {
          "base_uri": "https://localhost:8080/"
        }
      },
      "execution_count": 13,
      "outputs": [
        {
          "output_type": "stream",
          "name": "stdout",
          "text": [
            "2\n",
            "3\n",
            "4\n",
            "5\n",
            "6\n",
            "7\n",
            "8\n",
            "9\n",
            "10\n"
          ]
        }
      ]
    },
    {
      "cell_type": "markdown",
      "source": [
        "c. Write a program that takes two integers as input and asks the user to choose an arithmetic operation to perform with those numbers. At the end of the program, prompt the user with the question, \"Do you want to continue?\" If the user selects \"Y\" or \"y,\" the program should restart; otherwise, it should exit and display the message, \"Have a good day.\""
      ],
      "metadata": {
        "id": "oxXvMBKNsX8M"
      }
    },
    {
      "cell_type": "code",
      "source": [
        "# Write your code here.\n",
        "while True:\n",
        "    x = int(input(\"Enter 1st number:\"))\n",
        "    y = int(input(\"Enter 2nd number:\"))\n",
        "    operation = input(\"Choose +, -, *, /:\")\n",
        "    if (operation == \"+\"):\n",
        "        print(x + y)\n",
        "    elif (operation == \"-\"):\n",
        "        print(x - y)\n",
        "    elif (operation == \"*\"):\n",
        "        print(x * y)\n",
        "    elif (operation == \"/\"):\n",
        "        print(x / y)\n",
        "    else:\n",
        "        print(\"Error in operation selection\")\n",
        "    choice = input(\"Do you want to continue? (Y/N): \")\n",
        "    if choice != \"Y\" and choice != \"y\":\n",
        "        print(\"Have a good day!\")\n",
        "        break"
      ],
      "metadata": {
        "id": "w9Ai1I_JsYw9",
        "outputId": "b48e4ed3-499d-4dae-e49b-546b1ec7751a",
        "colab": {
          "base_uri": "https://localhost:8080/"
        }
      },
      "execution_count": 15,
      "outputs": [
        {
          "output_type": "stream",
          "name": "stdout",
          "text": [
            "Enter 1st number:56\n",
            "Enter 2nd number:87\n",
            "Choose +, -, *, /:/\n",
            "0.6436781609195402\n",
            "Do you want to continue? (Y/N): y\n",
            "Enter 1st number:4565456\n",
            "Enter 2nd number:777\n",
            "Choose +, -, *, /:*\n",
            "3547359312\n",
            "Do you want to continue? (Y/N): n\n",
            "Have a good day!\n"
          ]
        }
      ]
    },
    {
      "cell_type": "markdown",
      "source": [
        "### 2. For loops\n",
        "\n",
        "a. Write a code that counts the total number of characters in a text and also counts each character individually. For example, consider the sentence \"To be, or not to be, that is the question.\" The code should determine the total number of letters and how many times each letter appears, including specific counts for the letters 't' and 'o', etc. Ignore the upper and lower cases letters, and any punctuations symbols. Use only for loop, while loop, break and continue statements where necessary.\n",
        "\n",
        "#### Sample input: ```To be, or not to be, that is the question```\n",
        "\n",
        "#### Expected output: ###\n",
        "\n",
        "```\n",
        "Total number of alphabets: 30\n",
        "Total number of distinct alphabets are:\n",
        "T = 7\n",
        "o = 4\n",
        "```\n",
        "> **Note:** The expected output above is incomplete.\n"
      ],
      "metadata": {
        "id": "IeiOBf1Tse1c"
      }
    },
    {
      "cell_type": "code",
      "source": [
        "# Write your code here.\n",
        "text = \"To be, or not to be, that is the question.\"\n",
        "t = 0\n",
        "o = 0\n",
        "total_letters = 0\n",
        "for char in text:\n",
        "    if char.isalpha():\n",
        "        total_letters += 1\n",
        "print(f\"Total number of letters: {total_letters}\")\n",
        "for char in text:\n",
        "    if char == 't':\n",
        "        t = t+1\n",
        "for char in text:\n",
        "    if char == 'o':\n",
        "        o = o+1\n",
        "print(\"Total number of 't' in the text: \", t)\n",
        "print(\"Total number of 'o' in the text: \", o)"
      ],
      "metadata": {
        "id": "FprfxHfksh2-",
        "outputId": "5e66a936-e865-405d-8e30-acf1e2faa1ba",
        "colab": {
          "base_uri": "https://localhost:8080/"
        }
      },
      "execution_count": 16,
      "outputs": [
        {
          "output_type": "stream",
          "name": "stdout",
          "text": [
            "Total number of letters: 30\n",
            "Total number of 't' in the text:  6\n",
            "Total number of 'o' in the text:  5\n"
          ]
        }
      ]
    },
    {
      "cell_type": "markdown",
      "source": [
        "## Challenges\n",
        "\n",
        "Please describe the challenges you faced during the exercise."
      ],
      "metadata": {
        "id": "xQzjxKdvvbyo"
      }
    },
    {
      "cell_type": "markdown",
      "source": [
        "I didn't fully understand the last question and needed to research further to find a solution, but I am not sure I did it write. I understand the looping function in theory, but in practice it seems difficult to master"
      ],
      "metadata": {
        "id": "qfJNpTB5EbY4"
      }
    }
  ]
}