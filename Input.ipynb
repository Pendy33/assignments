{
  "nbformat": 4,
  "nbformat_minor": 0,
  "metadata": {
    "colab": {
      "provenance": [],
      "include_colab_link": true
    },
    "kernelspec": {
      "name": "python3",
      "display_name": "Python 3"
    },
    "language_info": {
      "name": "python"
    }
  },
  "cells": [
    {
      "cell_type": "markdown",
      "metadata": {
        "id": "view-in-github",
        "colab_type": "text"
      },
      "source": [
        "<a href=\"https://colab.research.google.com/github/Pendy33/assignments/blob/main/Input.ipynb\" target=\"_parent\"><img src=\"https://colab.research.google.com/assets/colab-badge.svg\" alt=\"Open In Colab\"/></a>"
      ]
    },
    {
      "cell_type": "markdown",
      "source": [
        "# User input in Python\n",
        "\n",
        "## Objective\n",
        "1. Understand how ```input()``` function is applied.\n",
        "\n",
        "## Prerequisite\n",
        "\n",
        "- Python literals lecture & lab\n",
        "- Programming variables lecture\n",
        "\n",
        "## What do you need to complete this exercise?\n",
        "\n",
        "You can perform this exercise in any Python IDE, including JupyterLab or Google Colab.\n"
      ],
      "metadata": {
        "id": "2ITy4ycVFXBq"
      }
    },
    {
      "cell_type": "markdown",
      "source": [
        "### User input\n",
        "\n",
        "a. Write a program that prompts the user to enter the weight of a person in kilograms and outputs the equivalent weight in pounds. (Note that 1 kilogram = 2.2 pounds)."
      ],
      "metadata": {
        "id": "uQxH0KO0tsDc"
      }
    },
    {
      "cell_type": "code",
      "source": [
        "# Write your code here\n",
        "# Hint: Use int() or float() to convert the user input into an integer or float\n",
        "kg = float(input(\"Enter weight in Kgs: \"))\n",
        "lbs = kg * 2.2\n",
        "print(\"Weight in lbs: \",lbs)"
      ],
      "metadata": {
        "colab": {
          "base_uri": "https://localhost:8080/"
        },
        "id": "N3wgQQ672rWR",
        "outputId": "51ecbb39-15f3-44ea-8a28-257bc8e81022"
      },
      "execution_count": 1,
      "outputs": [
        {
          "output_type": "stream",
          "name": "stdout",
          "text": [
            "Enter weight in Kgs: 100\n",
            "Weight in lbs:  220.00000000000003\n"
          ]
        }
      ]
    },
    {
      "cell_type": "markdown",
      "source": [
        "b. Interest on a credit card's unpaid balance is calculated using the average daily balance. Suppose that $netBalance$ is the balance shown in the bill, $payment$ is the payment made, $d1$ is the number of days in the billing cycle, and $d2$ is the number of days payment is made before biling cycle. Then, the average daily balance is: $$averageDailybalance = (netBalance \\times d1 - payment \\times d2)/d1$$.\n",
        "\n",
        "If the interest rate per month is, say, 0.0152, then the interest on the unpaid balance is: $interest = averageDailyBalance \\times 0.0152$\n",
        "\n",
        "Write a program that accepts as input $netBalance$, $payment$, $d1$, $d2$, and $interest rate per month$. The program outputs the interest."
      ],
      "metadata": {
        "id": "2ou6B-5b2ws3"
      }
    },
    {
      "cell_type": "code",
      "source": [
        "# Write your code here\n",
        "netBalance = float(input(\"Enter Net Balance: \"))\n",
        "d1 = float(input(\"Enter Days in Billing Cycle: \"))\n",
        "d2 = float(input(\"Enter Days Payment is made before billing cycle: \"))\n",
        "payment = float(input(\"Enter Payment amount: \"))\n",
        "InterestRate= float(input(\"Enter Interest rate in decimals: \"))\n",
        "Interest = ((netBalance * d1 - payment * d2)/d1) * InterestRate\n",
        "print(\"$\",Interest)"
      ],
      "metadata": {
        "id": "pqP70bD02x9h",
        "outputId": "6c027153-bdc2-49df-cb86-4059d8886cae",
        "colab": {
          "base_uri": "https://localhost:8080/"
        }
      },
      "execution_count": 2,
      "outputs": [
        {
          "output_type": "stream",
          "name": "stdout",
          "text": [
            "Enter Net Balance: 10000\n",
            "Enter Days in Billing Cycle: 31\n",
            "Enter Days Payment is made before billing cycle: 5\n",
            "Enter Payment amount: 9000\n",
            "Enter Interest rate in decimals: .0152\n",
            "$ 129.93548387096774\n"
          ]
        }
      ]
    },
    {
      "cell_type": "markdown",
      "source": [
        "c. Two cars A and B leave an intersection at the same time. Car A travels west at an average speed of x miles per hour and car B travels south at an average speed of y miles per hour. Write a program that prompts the user to enter the average speed of both the cars and the elapsed time (in hours and minutes) and outputs the (shortest) distance between the cars."
      ],
      "metadata": {
        "id": "gAxw_xVk25qO"
      }
    },
    {
      "cell_type": "code",
      "source": [
        "# Write your code here\n",
        "x = float(input(\"Enter the average speed of Car A in mph: \"))\n",
        "y = float(input(\"Enter the average speed of Car B in mph: \"))\n",
        "hours = int(input(\"Enter the number of hours: \"))\n",
        "minutes = int(input(\"Enter the number of minutes: \"))\n",
        "A = x * (hours + (minutes/60))\n",
        "B = y * (hours + (minutes/60))\n",
        "print((A**2+B**2)**.5, \"Miles\")"
      ],
      "metadata": {
        "id": "nMPuZXsH26nW",
        "outputId": "d168d552-8bf0-465c-9fb0-8c1ebb9d0b86",
        "colab": {
          "base_uri": "https://localhost:8080/"
        }
      },
      "execution_count": 4,
      "outputs": [
        {
          "output_type": "stream",
          "name": "stdout",
          "text": [
            "Enter the average speed of Car A in mph: 25\n",
            "Enter the average speed of Car B in mph: 99\n",
            "Enter the number of hours: 2\n",
            "Enter the number of minutes: 37\n",
            "267.18204052252054 Miles\n"
          ]
        }
      ]
    },
    {
      "cell_type": "markdown",
      "source": [
        "### Troubleshooting\n",
        "\n",
        "Please troubleshoot the following issue **without using Python**, and explain your reasoning.\n",
        "\n",
        "a. ```hello = \"hello\"```  \n",
        "b. ```_var = 100```  \n",
        "c. ```!var_1 = 200```  \n",
        "d. ```print = \"print me\"```  \n",
        "e. ```False = 0```  "
      ],
      "metadata": {
        "id": "V0l5fqK-NJ2n"
      }
    },
    {
      "cell_type": "markdown",
      "source": [
        "Write your answer here"
      ],
      "metadata": {
        "id": "Cz8CqobPNO8n"
      }
    },
    {
      "cell_type": "markdown",
      "source": [
        "## Challenges\n",
        "\n",
        "Please describe the challenges you faced during the exercise."
      ],
      "metadata": {
        "id": "xQzjxKdvvbyo"
      }
    },
    {
      "cell_type": "markdown",
      "source": [
        "Write your challenges here"
      ],
      "metadata": {
        "id": "qfJNpTB5EbY4"
      }
    }
  ]
}