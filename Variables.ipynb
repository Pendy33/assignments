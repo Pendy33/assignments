{
  "nbformat": 4,
  "nbformat_minor": 0,
  "metadata": {
    "colab": {
      "provenance": [],
      "toc_visible": true,
      "include_colab_link": true
    },
    "kernelspec": {
      "name": "python3",
      "display_name": "Python 3"
    },
    "language_info": {
      "name": "python"
    }
  },
  "cells": [
    {
      "cell_type": "markdown",
      "metadata": {
        "id": "view-in-github",
        "colab_type": "text"
      },
      "source": [
        "<a href=\"https://colab.research.google.com/github/Pendy33/assignments/blob/main/Variables.ipynb\" target=\"_parent\"><img src=\"https://colab.research.google.com/assets/colab-badge.svg\" alt=\"Open In Colab\"/></a>"
      ]
    },
    {
      "cell_type": "markdown",
      "source": [
        "# Python variables\n",
        "\n",
        "Variables are human-friendly names of memory locations\n",
        "\n",
        "## Objective\n",
        "1. Understand how to define variables in Python.\n",
        "2. Gain a clear understanding of how the Python interpreter allocates memory addresses to variables.\n",
        "3. Skilled in troubleshooting techniques.\n",
        "\n",
        "## Prerequisite\n",
        "\n",
        "- Python literals lecture & lab\n",
        "- Programming variables lecture\n",
        "\n",
        "## What do you need to complete this exercise?\n",
        "\n",
        "You can perform this exercise in any Python IDE, including JupyterLab or Google Colab.\n"
      ],
      "metadata": {
        "id": "2ITy4ycVFXBq"
      }
    },
    {
      "cell_type": "markdown",
      "source": [
        "### Variable definition\n",
        "\n",
        "No need to declare the variable data type; variables can be assigned values or strings as needed."
      ],
      "metadata": {
        "id": "uQxH0KO0tsDc"
      }
    },
    {
      "cell_type": "code",
      "source": [
        "var1 = 10 # integer\n",
        "print(type(var1)) # var1 holds integer data type\n",
        "var2 = 100.0 # float\n",
        "print(type(var2))  # var2 holds float data type\n",
        "print(var1 * var2)  # var1 * var2 - float data type\n",
        "str1 = \"Hello World\"\n",
        "type(str1)\n",
        "print(str1)\n",
        "str2 = 'Single quote can also be used'\n",
        "type(str2)\n",
        "print(str2)\n",
        "var1 = \"Now I am a string data type\"\n",
        "del(var1) # delete the var1"
      ],
      "metadata": {
        "colab": {
          "base_uri": "https://localhost:8080/"
        },
        "id": "6RKggasqIqbr",
        "outputId": "e592377f-9af5-4372-a28d-cec18af588d2"
      },
      "execution_count": null,
      "outputs": [
        {
          "output_type": "stream",
          "name": "stdout",
          "text": [
            "<class 'int'>\n",
            "<class 'float'>\n",
            "1000.0\n",
            "Hello World\n",
            "Single quote can also be used\n"
          ]
        }
      ]
    },
    {
      "cell_type": "markdown",
      "source": [
        "### Variable memory usage\n"
      ],
      "metadata": {
        "id": "58GMVBXqKY89"
      }
    },
    {
      "cell_type": "code",
      "source": [
        "var1 = 10"
      ],
      "metadata": {
        "id": "nG3zhLAuJOdz"
      },
      "execution_count": null,
      "outputs": []
    },
    {
      "cell_type": "code",
      "source": [
        "# Check the memory address of var1 by using the following statement\n",
        "print(hex(id(var1)))"
      ],
      "metadata": {
        "id": "mjwxa33VJVix",
        "colab": {
          "base_uri": "https://localhost:8080/"
        },
        "outputId": "b1d548d6-8dcf-4f4f-f7fb-708cdc1e92a9"
      },
      "execution_count": null,
      "outputs": [
        {
          "output_type": "stream",
          "name": "stdout",
          "text": [
            "0xa40ca8\n"
          ]
        }
      ]
    },
    {
      "cell_type": "code",
      "source": [
        "var1 = 100\n",
        "# Check the memory address of var1 again"
      ],
      "metadata": {
        "id": "rQqjsX6pJafY"
      },
      "execution_count": null,
      "outputs": []
    },
    {
      "cell_type": "code",
      "source": [
        "# Write your code here\n",
        "print(hex(id(var1)))"
      ],
      "metadata": {
        "id": "bXIAgWixJ97B",
        "colab": {
          "base_uri": "https://localhost:8080/"
        },
        "outputId": "1e9ad384-d9e3-493b-dfcc-478fabf0acaf"
      },
      "execution_count": null,
      "outputs": [
        {
          "output_type": "stream",
          "name": "stdout",
          "text": [
            "0xa417e8\n"
          ]
        }
      ]
    },
    {
      "cell_type": "markdown",
      "source": [
        "There are two different integers for var1 causing the address to change. The first var was released."
      ],
      "metadata": {
        "id": "JrodhFbkJewA"
      }
    },
    {
      "cell_type": "code",
      "source": [
        "var2 = 100\n",
        "# Write your print statement\n",
        "# Check the memory address of var2. Did the Python interpreter assign a new memory address or reuse the existing one?\n",
        "# It pointed back to var1 because of the same integer"
      ],
      "metadata": {
        "id": "sWuIw2guJ1wK"
      },
      "execution_count": null,
      "outputs": []
    },
    {
      "cell_type": "code",
      "source": [
        "# Write your code here\n",
        "print(hex(id(var2)))"
      ],
      "metadata": {
        "id": "rOt7-7eLKFl_",
        "colab": {
          "base_uri": "https://localhost:8080/"
        },
        "outputId": "f2af949d-8238-43c7-9dc5-852d6663d216"
      },
      "execution_count": null,
      "outputs": [
        {
          "output_type": "stream",
          "name": "stdout",
          "text": [
            "0xa417e8\n"
          ]
        }
      ]
    },
    {
      "cell_type": "markdown",
      "source": [
        "### Memory map"
      ],
      "metadata": {
        "id": "WpQLLdj7Lr4K"
      }
    },
    {
      "cell_type": "code",
      "source": [
        "str1 = \"Hello\"\n",
        "str2 = \"World\""
      ],
      "metadata": {
        "id": "tecKbG6eKOo1"
      },
      "execution_count": null,
      "outputs": []
    },
    {
      "cell_type": "code",
      "source": [
        "# Find out the memory addresses of each character in str1 and str2.\n",
        "# The following is the example\n"
      ],
      "metadata": {
        "id": "KOrIVOosKUWD"
      },
      "execution_count": null,
      "outputs": []
    },
    {
      "cell_type": "code",
      "source": [
        "print(hex(id(str1[0])), hex(id(str1[1])))  # where 0 is the first index and 1 is the second index\n",
        "# Use the same method as described above to find the addresses of additional characters and complete the table below.\n",
        "print(hex(id(str1[0])),hex(id(str1[1])),hex(id(str1[2])),hex(id(str1[3])),hex(id(str1[4])),hex(id(str2[0])),hex(id(str2[1])),hex(id(str2[2])),hex(id(str2[3])),hex(id(str2[4])))"
      ],
      "metadata": {
        "id": "egL18fPSKXfz",
        "colab": {
          "base_uri": "https://localhost:8080/"
        },
        "outputId": "e18a2306-1c16-4449-ad45-53632a09dccc"
      },
      "execution_count": null,
      "outputs": [
        {
          "output_type": "stream",
          "name": "stdout",
          "text": [
            "0xa4b9e8 0xa4c040\n",
            "0xa4b9e8 0xa4c040 0xa4c1c8 0xa4c1c8 0xa4c270 0xa4bd30 0xa4c270 0xa4c318 0xa4c1c8 0xa4c008\n"
          ]
        }
      ]
    },
    {
      "cell_type": "markdown",
      "source": [
        "| Address in hexadecimal | Char  |\n",
        "| ---------------------- | ----  |\n",
        "| #0xa4b9e8              |   0   |\n",
        "| #0xa4c040              |   1   |\n",
        "| #0xa4c1c8              |   2   |\n",
        "| #0xa4c1c8              |   2   |\n",
        "| #0xa4c270              |   3   |\n",
        "| #0xa4bd30               |   4   |\n",
        "| #0xa4c270              |   3   |\n",
        "| #0xa4c318                      |   5   |\n",
        "| #0xa4c1c8                       |   2   |\n",
        "| # 0xa4c008                     |   6  |"
      ],
      "metadata": {
        "id": "-mBS7AwtKclS"
      }
    },
    {
      "cell_type": "markdown",
      "source": [
        "### Problem-solving\n",
        "\n",
        " Let the variable ```x``` be ```dog``` and the variable ```y``` be ```cat```. Write the values returned by the following operations: **Try solving without writing in Python.**  \n",
        "-  x + y  \n",
        "-  \"the \" + x + \" chases the \" + y  \n",
        "-  x * 4  "
      ],
      "metadata": {
        "id": "rTf_jwaTMyEu"
      }
    },
    {
      "cell_type": "markdown",
      "source": [
        "1. dogcat\n",
        "2. the dog chases the cat\n",
        "3. dogdogdogdog"
      ],
      "metadata": {
        "id": "cZo5BEsJM7qC"
      }
    },
    {
      "cell_type": "markdown",
      "source": [
        "If ```x = 50```. Use an assignment statement to increment the value of ```x``` by 1.  "
      ],
      "metadata": {
        "id": "oFpYtt5KNCjK"
      }
    },
    {
      "cell_type": "code",
      "source": [
        "# Write your code here\n",
        "x = 50\n",
        "x = x + 1\n",
        "print(x)"
      ],
      "metadata": {
        "id": "Q4Z1wMB_NDNi",
        "colab": {
          "base_uri": "https://localhost:8080/"
        },
        "outputId": "005f2f49-8661-43dc-fa59-ad7a2e11252d"
      },
      "execution_count": null,
      "outputs": [
        {
          "output_type": "stream",
          "name": "stdout",
          "text": [
            "51\n"
          ]
        }
      ]
    },
    {
      "cell_type": "markdown",
      "source": [
        "### Troubleshooting\n",
        "\n",
        "Please troubleshoot the following issue **without using Python**, and explain your reasoning.\n",
        "\n",
        "a. ```hello = \"hello\"```  \n",
        "b. ```_var = 100```  \n",
        "c. ```!var_1 = 200```  \n",
        "d. ```print = \"print me\"```  \n",
        "e. ```False = 0```  "
      ],
      "metadata": {
        "id": "V0l5fqK-NJ2n"
      }
    },
    {
      "cell_type": "markdown",
      "source": [
        "1. no error\n",
        "2. no error\n",
        "3. Can't use spedcial character\n",
        "4. Reserved word \"print\"\n",
        "4. Keyword word \"False\""
      ],
      "metadata": {
        "id": "Cz8CqobPNO8n"
      }
    },
    {
      "cell_type": "markdown",
      "source": [
        "## Challenges\n",
        "\n",
        "I had challenges figuring out the string portion. I had do each letter one by one, and I wasn't aware of that."
      ],
      "metadata": {
        "id": "xQzjxKdvvbyo"
      }
    },
    {
      "cell_type": "markdown",
      "source": [
        "Write your challenges here"
      ],
      "metadata": {
        "id": "qfJNpTB5EbY4"
      }
    }
  ]
}