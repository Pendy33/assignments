{
  "nbformat": 4,
  "nbformat_minor": 0,
  "metadata": {
    "colab": {
      "provenance": [],
      "toc_visible": true,
      "include_colab_link": true
    },
    "kernelspec": {
      "name": "python3",
      "display_name": "Python 3"
    },
    "language_info": {
      "name": "python"
    }
  },
  "cells": [
    {
      "cell_type": "markdown",
      "metadata": {
        "id": "view-in-github",
        "colab_type": "text"
      },
      "source": [
        "<a href=\"https://colab.research.google.com/github/Pendy33/assignments/blob/main/Python_literals.ipynb\" target=\"_parent\"><img src=\"https://colab.research.google.com/assets/colab-badge.svg\" alt=\"Open In Colab\"/></a>"
      ]
    },
    {
      "cell_type": "markdown",
      "source": [
        "# Python literals\n",
        "\n",
        "## Objective\n",
        "1. Understand how Python uses literals.\n",
        "2. Differentiate Integer, Float, Boolean and String data types.\n",
        "3. Understanding how arithmetic operations are performed and recognizing the precedence of operators.\n",
        "\n",
        "## Prerequisite\n",
        "\n",
        "- Python & literals lecture\n",
        "\n",
        "## What do you need to complete this exercise?\n",
        "\n",
        "You can perform this exercise in any Python IDE, including JupyterLab or Google Colab."
      ],
      "metadata": {
        "id": "2ITy4ycVFXBq"
      }
    },
    {
      "cell_type": "markdown",
      "source": [
        "### Literals\n",
        "\n",
        "a) What will the output be without using Python? Aim for 80% accuracy.\n",
        "\n",
        "```print(5 + 2 - 2)```\n",
        "\n",
        "```print(5 / 2)```\n",
        "\n",
        "```print(6 // 2) # // integer division```\n",
        "\n",
        "```print(2. * 3)```\n",
        "\n",
        "```print(2 < 4)```\n",
        "\n",
        "```print(2 >= 2)```\n",
        "\n",
        "```print(\"Hello\"+\"World\")```\n",
        "\n",
        "```print(\"bla\" * 3)```\n",
        "\n",
        "```print(2 * 3 ** 3)```\n",
        "\n",
        "```print(5 * 25 // 13 + 100 / 2 % 13 // 2)```\n",
        "\n",
        "```print(2 * 3 % 5)```\n",
        "\n",
        "```print((2 % -4), (2 % 4), (2 ** 3 ** 2))```\n"
      ],
      "metadata": {
        "id": "uQxH0KO0tsDc"
      }
    },
    {
      "cell_type": "markdown",
      "source": [
        "b) Please verify using Python to determine if you have achieved at least 80% correct answers."
      ],
      "metadata": {
        "id": "4HjghxnSJgY1"
      }
    },
    {
      "cell_type": "code",
      "source": [
        "# Write your code here\n",
        "print(5 + 2 - 2)\n",
        "\n",
        "print(5 / 2)\n",
        "\n",
        "print(6 // 2) # // integer division\n",
        "\n",
        "print(2. * 3)\n",
        "\n",
        "print(2 < 4)\n",
        "\n",
        "print(2 >= 2)\n",
        "\n",
        "print(\"Hello\"+\"World\")\n",
        "\n",
        "print(\"bla\" * 3)\n",
        "\n",
        "print(2 * 3 ** 3)\n",
        "\n",
        "print(5 * 25 // 13 + 100 / 2 % 13 // 2)\n",
        "\n",
        "print(2 * 3 % 5)\n",
        "\n",
        "print((2 % -4), (2 % 4), (2 ** 3 ** 2))"
      ],
      "metadata": {
        "id": "tLQh-A7Kt70H",
        "colab": {
          "base_uri": "https://localhost:8080/"
        },
        "outputId": "3683efa7-def6-468f-d807-87174eaaedba"
      },
      "execution_count": 1,
      "outputs": [
        {
          "output_type": "stream",
          "name": "stdout",
          "text": [
            "5\n",
            "2.5\n",
            "3\n",
            "6.0\n",
            "True\n",
            "True\n",
            "HelloWorld\n",
            "blablabla\n",
            "54\n",
            "14.0\n",
            "1\n",
            "-2 2 512\n"
          ]
        }
      ]
    },
    {
      "cell_type": "markdown",
      "source": [
        "### Data type\n"
      ],
      "metadata": {
        "id": "58GMVBXqKY89"
      }
    },
    {
      "cell_type": "markdown",
      "source": [
        "a) What will the output be without using Python? Aim for 80% accuracy.\n",
        "```type(\"Hello\")```\n",
        "\n",
        "```type(1+\"2\")```\n",
        "\n",
        "```type(1.)```\n",
        "\n",
        "```type('A')```\n",
        "\n",
        "```type(500)```\n",
        "\n",
        "```type(True)```\n",
        "\n",
        "```type(\"False\")```\n"
      ],
      "metadata": {
        "id": "f3_kJZnHKolp"
      }
    },
    {
      "cell_type": "markdown",
      "source": [
        "String\n",
        "Error\n",
        "Float\n",
        "String\n",
        "Int\n",
        "Bool\n",
        "String"
      ],
      "metadata": {
        "id": "TZ3zlabVMebV"
      }
    },
    {
      "cell_type": "markdown",
      "source": [
        "b) Please verify using Python to determine if you have achieved at least 80% correct answers."
      ],
      "metadata": {
        "id": "LmwF2Rg2Li7M"
      }
    },
    {
      "cell_type": "code",
      "source": [
        "# Write your code here\n",
        "type(\"Hello\")\n",
        "type(1+\"2\")\n",
        "type(1.)\n",
        "type('A')\n",
        "type(500)\n",
        "type(True)\n",
        "type(\"False\")\n",
        "\n",
        "\n"
      ],
      "metadata": {
        "id": "kLoyOaLLLnSK",
        "colab": {
          "base_uri": "https://localhost:8080/",
          "height": 211
        },
        "outputId": "b55c2e37-88e6-4ef1-d494-ff510151c289"
      },
      "execution_count": 18,
      "outputs": [
        {
          "output_type": "error",
          "ename": "TypeError",
          "evalue": "unsupported operand type(s) for +: 'int' and 'str'",
          "traceback": [
            "\u001b[0;31m---------------------------------------------------------------------------\u001b[0m",
            "\u001b[0;31mTypeError\u001b[0m                                 Traceback (most recent call last)",
            "\u001b[0;32m<ipython-input-18-e1731b5bd6e7>\u001b[0m in \u001b[0;36m<cell line: 0>\u001b[0;34m()\u001b[0m\n\u001b[1;32m      1\u001b[0m \u001b[0;31m# Write your code here\u001b[0m\u001b[0;34m\u001b[0m\u001b[0;34m\u001b[0m\u001b[0m\n\u001b[1;32m      2\u001b[0m \u001b[0mtype\u001b[0m\u001b[0;34m(\u001b[0m\u001b[0;34m\"Hello\"\u001b[0m\u001b[0;34m)\u001b[0m\u001b[0;34m\u001b[0m\u001b[0;34m\u001b[0m\u001b[0m\n\u001b[0;32m----> 3\u001b[0;31m \u001b[0mtype\u001b[0m\u001b[0;34m(\u001b[0m\u001b[0;36m1\u001b[0m\u001b[0;34m+\u001b[0m\u001b[0;34m\"2\"\u001b[0m\u001b[0;34m)\u001b[0m\u001b[0;34m\u001b[0m\u001b[0;34m\u001b[0m\u001b[0m\n\u001b[0m\u001b[1;32m      4\u001b[0m \u001b[0mtype\u001b[0m\u001b[0;34m(\u001b[0m\u001b[0;36m1.\u001b[0m\u001b[0;34m)\u001b[0m\u001b[0;34m\u001b[0m\u001b[0;34m\u001b[0m\u001b[0m\n\u001b[1;32m      5\u001b[0m \u001b[0mtype\u001b[0m\u001b[0;34m(\u001b[0m\u001b[0;34m'A'\u001b[0m\u001b[0;34m)\u001b[0m\u001b[0;34m\u001b[0m\u001b[0;34m\u001b[0m\u001b[0m\n",
            "\u001b[0;31mTypeError\u001b[0m: unsupported operand type(s) for +: 'int' and 'str'"
          ]
        }
      ]
    },
    {
      "cell_type": "markdown",
      "source": [
        "### Operator precedence"
      ],
      "metadata": {
        "id": "WpQLLdj7Lr4K"
      }
    },
    {
      "cell_type": "markdown",
      "source": [
        "a) Write your arithmetic expression that uses at least one operator from each group. For example ```5 * 25 % 13 + 100 / -2 * 13 // 2 ** 3```"
      ],
      "metadata": {
        "id": "DdtOLAZfLz8X"
      }
    },
    {
      "cell_type": "code",
      "source": [
        "# Write your code here\n",
        "33*7%3+25/-2*1000//4**5-84"
      ],
      "metadata": {
        "id": "iJH2iRokL14f",
        "colab": {
          "base_uri": "https://localhost:8080/"
        },
        "outputId": "e37c3c11-135c-4d0f-951c-8eef195120a6"
      },
      "execution_count": 19,
      "outputs": [
        {
          "output_type": "execute_result",
          "data": {
            "text/plain": [
              "-97.0"
            ]
          },
          "metadata": {},
          "execution_count": 19
        }
      ]
    },
    {
      "cell_type": "markdown",
      "source": [
        "b) What will the output be without using Python after writing your arithmetic expression? Use the table below for your reference."
      ],
      "metadata": {
        "id": "C8NjhQrfMILL"
      }
    },
    {
      "cell_type": "markdown",
      "source": [
        "| Priority | Operator                                                     | Notes                    |\n",
        "| :------- | :----------------------------------------------------------- | :----------------------- |\n",
        "| 1        | `**`                                                         | Right to left evaluation |\n",
        "| 2        | `+`, `-` (note: unary operators located next to the right of the power operator bind more strongly) | unary                    |\n",
        "| 3        | `*`, `/`, `//`, `%`                                          | Left to right evaluation |\n",
        "| 4        | `+`, `-`                                                     | binary                   |"
      ],
      "metadata": {
        "id": "DqRqRrNsMPRp"
      }
    },
    {
      "cell_type": "markdown",
      "source": [
        "-97.0"
      ],
      "metadata": {
        "id": "cKsvL_1JMRVJ"
      }
    },
    {
      "cell_type": "markdown",
      "source": [
        "c) Please verify using Python to determine if you have done it correctly."
      ],
      "metadata": {
        "id": "9micAN0HM2VI"
      }
    },
    {
      "cell_type": "code",
      "source": [
        "# Write your code here\n",
        "33*7%3+25/-2*1000//4**5-84"
      ],
      "metadata": {
        "id": "oyX3LQADM4IY",
        "colab": {
          "base_uri": "https://localhost:8080/"
        },
        "outputId": "e5218d0b-370d-41c8-90f9-8cd218730a67"
      },
      "execution_count": 17,
      "outputs": [
        {
          "output_type": "execute_result",
          "data": {
            "text/plain": [
              "-97.0"
            ]
          },
          "metadata": {},
          "execution_count": 17
        }
      ]
    },
    {
      "cell_type": "markdown",
      "source": [
        "## Challenges\n",
        "\n",
        "Please describe the challenges you faced during the exercise."
      ],
      "metadata": {
        "id": "xQzjxKdvvbyo"
      }
    },
    {
      "cell_type": "markdown",
      "source": [
        "Remembering all of the operators is the biggest challenge. A lot of them are self explanatory, but floor division specifically was difficult to remember."
      ],
      "metadata": {
        "id": "qfJNpTB5EbY4"
      }
    }
  ]
}