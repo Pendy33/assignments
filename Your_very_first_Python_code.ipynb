{
  "nbformat": 4,
  "nbformat_minor": 0,
  "metadata": {
    "colab": {
      "provenance": [],
      "toc_visible": true,
      "include_colab_link": true
    },
    "kernelspec": {
      "name": "python3",
      "display_name": "Python 3"
    },
    "language_info": {
      "name": "python"
    }
  },
  "cells": [
    {
      "cell_type": "markdown",
      "metadata": {
        "id": "view-in-github",
        "colab_type": "text"
      },
      "source": [
        "<a href=\"https://colab.research.google.com/github/Pendy33/assignments/blob/main/Your_very_first_Python_code.ipynb\" target=\"_parent\"><img src=\"https://colab.research.google.com/assets/colab-badge.svg\" alt=\"Open In Colab\"/></a>"
      ]
    },
    {
      "cell_type": "markdown",
      "source": [
        "# Your first python code\n",
        "\n",
        "## Objective\n",
        "Write your very first python code\n",
        "\n",
        "## Prerequisite\n",
        "\n",
        "- Your very first code `lecture`\n",
        "\n",
        "## What do you need to complete this exercise?\n",
        "\n",
        "You can perform this exercise in any Python IDE, including JupyterLab or Google Colab.\n"
      ],
      "metadata": {
        "id": "2ITy4ycVFXBq"
      }
    },
    {
      "cell_type": "markdown",
      "source": [
        "\n",
        "\n",
        "### Your first code\n",
        "\n",
        "a. Print the following statements using multiple ```print()``` statements\n",
        "```\n",
        "All the world's a stage,\n",
        "And all the men and women merely players:\n",
        "They have their exits and their entrances;\n",
        "And one man in his time plays many parts,\n",
        "His acts being seven ages.\n",
        "```\n",
        "\n"
      ],
      "metadata": {
        "id": "uQxH0KO0tsDc"
      }
    },
    {
      "cell_type": "code",
      "source": [
        "# Write your code here\n",
        "print(\"All the world's a stage,\")\n",
        "print(\"They have their exits and their entrances;\")\n",
        "print(\"And one man in his time plays many parts,\")\n",
        "print(\"His acts being seven ages.\")"
      ],
      "metadata": {
        "id": "tLQh-A7Kt70H",
        "outputId": "d95574cb-7e3f-470a-a720-35c52ae4ef9b",
        "colab": {
          "base_uri": "https://localhost:8080/"
        }
      },
      "execution_count": 1,
      "outputs": [
        {
          "output_type": "stream",
          "name": "stdout",
          "text": [
            "All the world's a stage,\n",
            "They have their exits and their entrances;\n",
            "And one man in his time plays many parts,\n",
            "His acts being seven ages.\n"
          ]
        }
      ]
    },
    {
      "cell_type": "markdown",
      "source": [
        "b. Print the above statements using a single ```print()``` statement"
      ],
      "metadata": {
        "id": "WjCVjgFuu2LR"
      }
    },
    {
      "cell_type": "code",
      "source": [
        "# Write your code here\n",
        "print(\"All the world's a stage,\",\n",
        "      \"And all the men and women merely players:\",\n",
        "      \"And one man in his time plays many parts,\",\n",
        "      \"His acts being seven ages.\")"
      ],
      "metadata": {
        "id": "Z3US7bf6u5lp",
        "outputId": "dffb23fc-b2cd-47e4-b615-ba42f484571b",
        "colab": {
          "base_uri": "https://localhost:8080/"
        }
      },
      "execution_count": 3,
      "outputs": [
        {
          "output_type": "stream",
          "name": "stdout",
          "text": [
            "All the world's a stage, And all the men and women merely players: And one man in his time plays many parts, His acts being seven ages.\n"
          ]
        }
      ]
    },
    {
      "cell_type": "markdown",
      "source": [
        "c. Without coding, what is the output of the following statement:\n",
        "```print(\"127\",\"0\",\"0\",\"1\",sep=\".\")```"
      ],
      "metadata": {
        "id": "jGAy3_MlvONr"
      }
    },
    {
      "cell_type": "markdown",
      "source": [
        "127.0.0.1\n"
      ],
      "metadata": {
        "id": "FrdFrBujEDB9"
      }
    },
    {
      "cell_type": "markdown",
      "source": [
        "d. Identify a situation where you have to print data with ```flush=True``` and ```flush=False```."
      ],
      "metadata": {
        "id": "ruYWccCbvTsi"
      }
    },
    {
      "cell_type": "markdown",
      "source": [
        "You could use flush=True for some sort of counter/timer. For flush=False you could use it if you are doing large scale reqeusts increase performance."
      ],
      "metadata": {
        "id": "28PdaQxRDc0H"
      }
    },
    {
      "cell_type": "markdown",
      "source": [
        "e. By default, the ```flush``` is disabled but ```print()``` output behaves like ```flush=True```. Which argument triggers the flush?"
      ],
      "metadata": {
        "id": "bXxEnnzFvZg5"
      }
    },
    {
      "cell_type": "code",
      "source": [
        "end=\"\""
      ],
      "metadata": {
        "id": "TXRXo2bCvaNA"
      },
      "execution_count": 5,
      "outputs": []
    },
    {
      "cell_type": "markdown",
      "source": [
        "## Challenges\n",
        "\n",
        "Please describe the challenges you faced during the exercise."
      ],
      "metadata": {
        "id": "xQzjxKdvvbyo"
      }
    },
    {
      "cell_type": "markdown",
      "source": [
        "I didn't really understand the last question. I think the answer is what I provided, as I think the flush is triggered by a new line, but I am unsure. I think the flush part was the hardest part of the lesson for me."
      ],
      "metadata": {
        "id": "qfJNpTB5EbY4"
      }
    }
  ]
}