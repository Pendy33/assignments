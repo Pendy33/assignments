{
  "nbformat": 4,
  "nbformat_minor": 0,
  "metadata": {
    "colab": {
      "provenance": [],
      "include_colab_link": true
    },
    "kernelspec": {
      "name": "python3",
      "display_name": "Python 3"
    },
    "language_info": {
      "name": "python"
    }
  },
  "cells": [
    {
      "cell_type": "markdown",
      "metadata": {
        "id": "view-in-github",
        "colab_type": "text"
      },
      "source": [
        "<a href=\"https://colab.research.google.com/github/Pendy33/assignments/blob/main/Lists.ipynb\" target=\"_parent\"><img src=\"https://colab.research.google.com/assets/colab-badge.svg\" alt=\"Open In Colab\"/></a>"
      ]
    },
    {
      "cell_type": "markdown",
      "source": [
        "# Lists in Python\n",
        "A list is an ordered collection of elements, and each element can be of any data type, such as numbers, strings, Booleans, or even other lists. In Python, lists are mutable, meaning their contents can be changed. Lists are particularly useful when you want to handle a group of related values.\n",
        "\n",
        "## Objective\n",
        "- Comprehend the application of lists\n",
        "- Understand how a list uses memory\n",
        "- Apply various operations on a list\n",
        "\n",
        "## Prerequisite\n",
        "\n",
        "- Decision statements\n",
        "- Input functions\n",
        "- Python literals\n",
        "- Programming variables\n",
        "\n",
        "\n",
        "## What do you need to complete this exercise?\n",
        "\n",
        "You can perform this exercise in any Python IDE, including JupyterLab or Google Colab.\n"
      ],
      "metadata": {
        "id": "2ITy4ycVFXBq"
      }
    },
    {
      "cell_type": "markdown",
      "source": [
        "a) a. Using a range function, generate a list of 100 integers and assign the list to ```my_list```. Verify that the variable ```my_list``` data type is list. Use your favorite four methods and apply on the list. You can find the methods on [Python Docs](https://docs.python.org/3/tutorial/datastructures.html)"
      ],
      "metadata": {
        "id": "uQxH0KO0tsDc"
      }
    },
    {
      "cell_type": "code",
      "source": [
        "# Write your code here.\n",
        "my_list = (list(range(1,101)))\n",
        "print(type(my_list))\n",
        "my_list.remove(99)\n",
        "my_list.reverse()\n",
        "my_list.append(101)\n",
        "my_list.insert(2,\"Dog\")\n",
        "print(my_list)\n"
      ],
      "metadata": {
        "id": "rRTflD1C9mjt",
        "outputId": "bce3891e-6174-423f-8148-fc6c90928b16",
        "colab": {
          "base_uri": "https://localhost:8080/"
        }
      },
      "execution_count": 14,
      "outputs": [
        {
          "output_type": "stream",
          "name": "stdout",
          "text": [
            "<class 'list'>\n",
            "[100, 98, 'Dog', 97, 96, 95, 94, 93, 92, 91, 90, 89, 88, 87, 86, 85, 84, 83, 82, 81, 80, 79, 78, 77, 76, 75, 74, 73, 72, 71, 70, 69, 68, 67, 66, 65, 64, 63, 62, 61, 60, 59, 58, 57, 56, 55, 54, 53, 52, 51, 50, 49, 48, 47, 46, 45, 44, 43, 42, 41, 40, 39, 38, 37, 36, 35, 34, 33, 32, 31, 30, 29, 28, 27, 26, 25, 24, 23, 22, 21, 20, 19, 18, 17, 16, 15, 14, 13, 12, 11, 10, 9, 8, 7, 6, 5, 4, 3, 2, 1, 101]\n"
          ]
        }
      ]
    },
    {
      "cell_type": "markdown",
      "source": [
        "b. Suppose that you have a list of 10 items long. How might you move the last three items from the end of the list to the beginning, keeping them in the same order?"
      ],
      "metadata": {
        "id": "0jkTuRdlA6sk"
      }
    },
    {
      "cell_type": "code",
      "source": [
        "# Write your code here.\n",
        "my_list = list(range(1,11))\n",
        "print(my_list)\n",
        "my_list = my_list[-3:]+my_list[:-3]\n",
        "print(my_list)\n"
      ],
      "metadata": {
        "id": "8ZIVOfAMQt2Z",
        "outputId": "01198e8d-223f-4006-8ff7-c9e09bd05879",
        "colab": {
          "base_uri": "https://localhost:8080/"
        }
      },
      "execution_count": 22,
      "outputs": [
        {
          "output_type": "stream",
          "name": "stdout",
          "text": [
            "[1, 2, 3, 4, 5, 6, 7, 8, 9, 10]\n",
            "[8, 9, 10, 1, 2, 3, 4, 5, 6, 7]\n"
          ]
        }
      ]
    },
    {
      "cell_type": "markdown",
      "source": [
        "c. What would be the result of ```len([[1,2]] * 3)```? Try to do it without coding and then verify using Python."
      ],
      "metadata": {
        "id": "Wv1LOaouA_Gq"
      }
    },
    {
      "cell_type": "code",
      "source": [
        "# Write your code here.\n",
        "len([[1,2]]*3)\n"
      ],
      "metadata": {
        "id": "cF0UyMIqQ8V3",
        "outputId": "db6f6e49-3aab-4b16-aa8c-2e1012103b65",
        "colab": {
          "base_uri": "https://localhost:8080/"
        }
      },
      "execution_count": 30,
      "outputs": [
        {
          "output_type": "execute_result",
          "data": {
            "text/plain": [
              "3"
            ]
          },
          "metadata": {},
          "execution_count": 30
        }
      ]
    },
    {
      "cell_type": "markdown",
      "source": [
        "d. Create a list ```my-list-ten``` of 10 items that includes some duplicate entries. Then, generate a second list ```my-list-ten-mem``` that contains the memory addresses of the items from the list ```my-list-ten```. Use Python to research and identify the unique and duplicate memory addresses."
      ],
      "metadata": {
        "id": "0IWZsl7LBGvD"
      }
    },
    {
      "cell_type": "code",
      "source": [
        "# Write your code here.\n",
        "my_list_ten = [1,2,3,4,5] + [1,2,2,3,3]\n",
        "print(my_list_ten)\n",
        "my_list_ten_mem = [id(x) for x in my_list_ten]\n",
        "print(my_list_ten_mem)\n",
        "my_list_ten_mem_unique = [x for x in my_list_ten_mem if my_list_ten_mem.count(x)==1]\n",
        "my_list_ten_mem_dup = [x for x in my_list_ten_mem if my_list_ten_mem.count(x)>1]\n",
        "print(my_list_ten_mem_unique)\n",
        "print(my_list_ten_mem_dup)"
      ],
      "metadata": {
        "id": "S5kO371-Q_NL",
        "outputId": "1a8b2d37-c32b-4c0c-b7e0-87b53cc12dcc",
        "colab": {
          "base_uri": "https://localhost:8080/"
        }
      },
      "execution_count": 46,
      "outputs": [
        {
          "output_type": "stream",
          "name": "stdout",
          "text": [
            "[1, 2, 3, 4, 5, 1, 2, 2, 3, 3]\n",
            "[10750856, 10750888, 10750920, 10750952, 10750984, 10750856, 10750888, 10750888, 10750920, 10750920]\n",
            "[10750952, 10750984]\n",
            "[10750856, 10750888, 10750920, 10750856, 10750888, 10750888, 10750920, 10750920]\n"
          ]
        }
      ]
    },
    {
      "cell_type": "markdown",
      "source": [
        "e. Delete the list ```my-list-ten``` created in the above step."
      ],
      "metadata": {
        "id": "tJlIQIYjBPLX"
      }
    },
    {
      "cell_type": "code",
      "source": [
        "# Write your code here.\n",
        "del my_list_ten\n"
      ],
      "metadata": {
        "id": "fQr5X9N0RceU"
      },
      "execution_count": 47,
      "outputs": []
    },
    {
      "cell_type": "markdown",
      "source": [
        "f. Create a new list ```my-new-list``` of the same 10 items used in ```my-list-ten```. Generate memory addresses of the items in ```my-new-list``` and compare them with the memory addresses in ```my-list-ten-mem```. Discuss what do you observe."
      ],
      "metadata": {
        "id": "jflVX2GHBT3-"
      }
    },
    {
      "cell_type": "code",
      "source": [
        "# Write your code here.\n",
        "my_new_list = [1,2,3,4,5] + [1,2,2,3,3]\n",
        "print(my_new_list)\n",
        "my_new_list_mem = [id(x) for x in my_new_list]\n",
        "print(my_new_list_mem)\n",
        "\n",
        "# I see the same memory addresses from the previous code"
      ],
      "metadata": {
        "id": "QacofGe4RdZX",
        "outputId": "a11df1bc-ebc9-435d-a7cb-7d675c10e32f",
        "colab": {
          "base_uri": "https://localhost:8080/"
        }
      },
      "execution_count": 50,
      "outputs": [
        {
          "output_type": "stream",
          "name": "stdout",
          "text": [
            "[1, 2, 3, 4, 5, 1, 2, 2, 3, 3]\n",
            "[10750856, 10750888, 10750920, 10750952, 10750984, 10750856, 10750888, 10750888, 10750920, 10750920]\n"
          ]
        }
      ]
    },
    {
      "cell_type": "markdown",
      "source": [
        "g. Suppose that you have the following list: ```x = [[1, 2, 3], [4, 5, 6], [7, 8, 9]]```. What code could you use to get a copy ```y``` of that list in which you could change the elements without the side effect of changing the contents of ```x```?"
      ],
      "metadata": {
        "id": "BRZq7VPZBYsN"
      }
    },
    {
      "cell_type": "code",
      "source": [
        "x = [[1, 2, 3], [4, 5, 6], [7, 8, 9]]\n",
        "# Write your code here.\n",
        "\n",
        "y = x[:]\n",
        "print(x)\n",
        "print(y)"
      ],
      "metadata": {
        "id": "5M7ksW8xsC3k",
        "outputId": "cac80515-992c-4318-d4ca-36eba3892514",
        "colab": {
          "base_uri": "https://localhost:8080/"
        }
      },
      "execution_count": 39,
      "outputs": [
        {
          "output_type": "stream",
          "name": "stdout",
          "text": [
            "[[1, 2, 3], [4, 5, 6], [7, 8, 9]]\n",
            "[[1, 2, 3], [4, 5, 6], [7, 8, 9]]\n"
          ]
        }
      ]
    },
    {
      "cell_type": "markdown",
      "source": [
        "h. Is it possible to use multiple expressions within a list comprehension?"
      ],
      "metadata": {
        "id": "LUIwtfcJBnsq"
      }
    },
    {
      "cell_type": "code",
      "source": [
        "# True or False\n",
        "# True"
      ],
      "metadata": {
        "id": "7xxHmgPKBoSc"
      },
      "execution_count": null,
      "outputs": []
    },
    {
      "cell_type": "markdown",
      "source": [
        "i. Using a list comprehension, count how many spaces are in the following statement.\n",
        "\"To be, or not to be, this is the question\""
      ],
      "metadata": {
        "id": "dV-_5n78BxH4"
      }
    },
    {
      "cell_type": "code",
      "source": [
        "# Write your code here.\n",
        "statement = \"To be, or not to be, this is the question\"\n",
        "spaces = [1 for char in statement if char == \" \"]\n",
        "space_count = 1*spaces.count(1)\n",
        "print(space_count)"
      ],
      "metadata": {
        "id": "1C6WRbQ1I_up",
        "outputId": "cce3c2b3-be87-4566-8bd8-a302d3d36fec",
        "colab": {
          "base_uri": "https://localhost:8080/"
        }
      },
      "execution_count": 41,
      "outputs": [
        {
          "output_type": "stream",
          "name": "stdout",
          "text": [
            "9\n"
          ]
        }
      ]
    },
    {
      "cell_type": "markdown",
      "source": [
        "j. Choose any 5 lists operations of your choice from the link https://docs.python.org/3/tutorial/datastructures.html\n"
      ],
      "metadata": {
        "id": "QJQ3mnTyIz7c"
      }
    },
    {
      "cell_type": "code",
      "source": [
        "# Write your code here.\n",
        "\n",
        "new_list_1 = list(range(1,10))\n",
        "print(new_list_1)\n",
        "new_list_1.append(333)\n",
        "print(new_list_1)\n",
        "new_list_1.insert(4,75)\n",
        "print(new_list_1)\n",
        "new_list_1.reverse()\n",
        "print(new_list_1)\n",
        "new_list_1.sort()\n",
        "print(new_list_1)\n",
        "new_list_2 = new_list_1[:]\n",
        "new_list_3 = [x for x in new_list_2 if 50 < x < 100]\n",
        "print(new_list_2)\n",
        "print(new_list_3*2)"
      ],
      "metadata": {
        "id": "7JcT_W26B0Nu",
        "outputId": "3e176118-f93b-430f-ffdc-57912f7c6d33",
        "colab": {
          "base_uri": "https://localhost:8080/"
        }
      },
      "execution_count": 71,
      "outputs": [
        {
          "output_type": "stream",
          "name": "stdout",
          "text": [
            "[1, 2, 3, 4, 5, 6, 7, 8, 9]\n",
            "[1, 2, 3, 4, 5, 6, 7, 8, 9, 333]\n",
            "[1, 2, 3, 4, 75, 5, 6, 7, 8, 9, 333]\n",
            "[333, 9, 8, 7, 6, 5, 75, 4, 3, 2, 1]\n",
            "[1, 2, 3, 4, 5, 6, 7, 8, 9, 75, 333]\n",
            "[1, 2, 3, 4, 5, 6, 7, 8, 9, 75, 333]\n",
            "[75, 75]\n"
          ]
        }
      ]
    },
    {
      "cell_type": "markdown",
      "source": [
        "## Challenges\n",
        "\n",
        "Please describe the challenges you faced during the exercise."
      ],
      "metadata": {
        "id": "xQzjxKdvvbyo"
      }
    },
    {
      "cell_type": "markdown",
      "source": [
        "Understanding all the different things you can do with lists and how to accomplish a specific thing with so many different options was the hardest part for me."
      ],
      "metadata": {
        "id": "qfJNpTB5EbY4"
      }
    }
  ]
}